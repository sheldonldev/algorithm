{
 "cells": [
  {
   "cell_type": "markdown",
   "metadata": {},
   "source": [
    "# Examples\n",
    "## Maximum Salary\n",
    "\n",
    "- input: a list of digits;\n",
    "- output: combine them into largest number"
   ]
  },
  {
   "cell_type": "markdown",
   "metadata": {},
   "source": [
    "## Queue of Patients\n",
    "\n",
    "- input: n patients come to doctor's office. they can be treated any order, for i_th patient, the treat time is t_i.\n",
    "- output: minimum total waiting time.\n"
   ]
  },
  {
   "cell_type": "markdown",
   "metadata": {},
   "source": [
    "## Celebration Party\n",
    "\n",
    "- many children came to celebration. organize them into minimum possible number of group such that the age of any two children in the same group differs by at most two years."
   ]
  },
  {
   "cell_type": "markdown",
   "metadata": {},
   "source": [
    "## Maximizing Loot\n",
    "\n",
    "- Weights w1, w2, ..., wn and values v1, v2, ..., vn of n items, W of the capacity of the knapsack.\n",
    "- want the maximum of total value of fraction of items that fit into the knapsack."
   ]
  },
  {
   "cell_type": "markdown",
   "metadata": {},
   "source": [
    "# General Strategy\n",
    "\n",
    "- naive algorithms:\n",
    "    - make a greedy choice;\n",
    "    - proof that it is a safe choice;\n",
    "    - reduce to subproblem;\n",
    "    - solve subproblem and estimate running time;\n",
    "    \n",
    "- optimization:\n",
    "    - sort;"
   ]
  },
  {
   "cell_type": "code",
   "execution_count": null,
   "metadata": {},
   "outputs": [],
   "source": []
  }
 ],
 "metadata": {
  "kernelspec": {
   "display_name": "Python 3",
   "language": "python",
   "name": "python3"
  },
  "language_info": {
   "codemirror_mode": {
    "name": "ipython",
    "version": 3
   },
   "file_extension": ".py",
   "mimetype": "text/x-python",
   "name": "python",
   "nbconvert_exporter": "python",
   "pygments_lexer": "ipython3",
   "version": "3.8.5"
  },
  "toc": {
   "base_numbering": 1,
   "nav_menu": {},
   "number_sections": true,
   "sideBar": true,
   "skip_h1_title": false,
   "title_cell": "Table of Contents",
   "title_sidebar": "Contents",
   "toc_cell": false,
   "toc_position": {},
   "toc_section_display": true,
   "toc_window_display": false
  }
 },
 "nbformat": 4,
 "nbformat_minor": 4
}
