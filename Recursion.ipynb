{
 "cells": [
  {
   "cell_type": "markdown",
   "metadata": {},
   "source": [
    "# Introduction\n",
    "\n",
    "1. Why use recursion?\n",
    "    - It breaks down large problems into small chuncks;\n",
    "    - It is a fundamental used in more advanced algorithms;\n",
    "\n",
    "2. When to use recursion?\n",
    "    - For probems that contain smaller instances of the same problem;\n",
    "\n",
    "3. Anatomy of recursion:\n",
    "    - Base case: the \"smallest\" instance of a problem that is solved trivially;\n",
    "    - Recursive case: an instance of a problem that \"shrinks\" the size of the input toward the base case;"
   ]
  },
  {
   "cell_type": "markdown",
   "metadata": {},
   "source": [
    "# Examples\n",
    "\n",
    "## Factorial"
   ]
  },
  {
   "cell_type": "code",
   "execution_count": 4,
   "metadata": {},
   "outputs": [
    {
     "data": {
      "application/javascript": [
       "\n",
       "const foo = (n) => {\n",
       "    if (n === 1) return 1\n",
       "    \n",
       "    else return n * foo(n-1)\n",
       "}\n",
       "\n",
       "console.log(foo(1))\n",
       "console.log(foo(2))\n",
       "console.log(foo(3))\n"
      ],
      "text/plain": [
       "<IPython.core.display.Javascript object>"
      ]
     },
     "metadata": {},
     "output_type": "display_data"
    }
   ],
   "source": [
    "%%javascript\n",
    "\n",
    "const fact = (n) => {\n",
    "    if (n === 1) return 1\n",
    "    \n",
    "    else return n * fact(n-1)\n",
    "}\n",
    "\n",
    "console.log(fact(1))\n",
    "console.log(fact(2))\n",
    "console.log(fact(3))\n",
    "\n",
    "// Time: O(n)\n",
    "// Space: O(n)"
   ]
  },
  {
   "cell_type": "markdown",
   "metadata": {},
   "source": [
    "## Binary Search\n",
    "\n",
    "### Iterative Way"
   ]
  },
  {
   "cell_type": "code",
   "execution_count": 20,
   "metadata": {},
   "outputs": [
    {
     "data": {
      "application/javascript": [
       "\n",
       "// Iterative 1\n",
       "const binarySearch1 = (arr, target) => {\n",
       "    let i = arr.length\n",
       "    let idx = 0\n",
       "    while (i != 0) {\n",
       "        if (arr[Math.floor(i/2)] === target) {\n",
       "            return idx + Math.floor(i/2)\n",
       "        } else if (arr[Math.floor(i/2)] > target) {\n",
       "            arr = arr.slice(0, Math.floor(i/2))\n",
       "            i = arr.length\n",
       "        } else if (arr[Math.floor(i/2)] < target) {\n",
       "            idx += Math.ceil(i/2)\n",
       "            arr = arr.slice(Math.ceil(i/2))\n",
       "            i = arr.length\n",
       "        }\n",
       "    }\n",
       "    return false\n",
       "}\n",
       "// time: O(log(n))\n",
       "// space: O(n*log(n))\n",
       "\n",
       "// Iterative 2\n",
       "const binarySearch2 = (arr, target) => {\n",
       "    let left = 0\n",
       "    let right = arr.length - 1\n",
       "    while (left < right) {\n",
       "        let mid = Math.floor((left + right)/2)\n",
       "        if (arr[mid] === target) {\n",
       "            return mid\n",
       "        } else if (arr[mid] > target) {\n",
       "            right = mid - 1\n",
       "        } else if (arr[mid] < target) {\n",
       "            left = mid + 1\n",
       "        }\n",
       "//         console.log(left, right)\n",
       "    }\n",
       "    if (arr[left] === target) {\n",
       "        return left\n",
       "    } else {\n",
       "        return false\n",
       "    }\n",
       "}\n",
       "// time: O(log(n))\n",
       "// space: O(log(n))\n",
       "\n",
       "// test\n",
       "const nums = [12,21,34,36,56,77]\n",
       "console.log(binarySearch2(nums, 77))\n"
      ],
      "text/plain": [
       "<IPython.core.display.Javascript object>"
      ]
     },
     "metadata": {},
     "output_type": "display_data"
    }
   ],
   "source": [
    "%%javascript\n",
    "\n",
    "// Iterative 1\n",
    "const binarySearch1 = (arr, target) => {\n",
    "    let i = arr.length\n",
    "    let idx = 0\n",
    "    while (i != 0) {\n",
    "        if (arr[Math.floor(i/2)] === target) {\n",
    "            return idx + Math.floor(i/2)\n",
    "        } else if (arr[Math.floor(i/2)] > target) {\n",
    "            arr = arr.slice(0, Math.floor(i/2))\n",
    "            i = arr.length\n",
    "        } else if (arr[Math.floor(i/2)] < target) {\n",
    "            idx += Math.ceil(i/2)\n",
    "            arr = arr.slice(Math.ceil(i/2))\n",
    "            i = arr.length\n",
    "        }\n",
    "    }\n",
    "    return false\n",
    "}\n",
    "// Time: O(log(n))\n",
    "// Space: ?\n",
    "\n",
    "// Iterative 2\n",
    "const binarySearch2 = (arr, target) => {\n",
    "    let left = 0\n",
    "    let right = arr.length - 1\n",
    "    while (left < right) {\n",
    "        let mid = Math.floor((left + right)/2)\n",
    "        if (arr[mid] === target) {\n",
    "            return mid\n",
    "        } else if (arr[mid] > target) {\n",
    "            right = mid - 1\n",
    "        } else if (arr[mid] < target) {\n",
    "            left = mid + 1\n",
    "        }\n",
    "//         console.log(left, right)\n",
    "    }\n",
    "    if (arr[left] === target) {\n",
    "        return left\n",
    "    } else {\n",
    "        return false\n",
    "    }\n",
    "}\n",
    "// Time: O(log(n))\n",
    "// Space: ?\n",
    "\n",
    "// test\n",
    "const nums = [12,21,34,36,56,77]\n",
    "console.log(binarySearch2(nums, 77))"
   ]
  },
  {
   "cell_type": "markdown",
   "metadata": {},
   "source": [
    "### Recursive Way"
   ]
  },
  {
   "cell_type": "code",
   "execution_count": 24,
   "metadata": {},
   "outputs": [
    {
     "data": {
      "application/javascript": [
       "\n",
       "const binarySearch = (arr, target) => {\n",
       "    return binarySearchHelper(arr, target, 0, arr.length-1)\n",
       "}\n",
       "\n",
       "const binarySearchHelper = (arr, target, left, right) => {\n",
       "    if (left > right) {\n",
       "        return false\n",
       "    }\n",
       "    \n",
       "    let mid = Math.floor((left + right) / 2)\n",
       "    \n",
       "    if (arr[mid] === target) {\n",
       "        return mid\n",
       "    } else if (arr[mid] > target) {\n",
       "        return binarySearchHelper(arr, target, left, mid-1)\n",
       "    } else if (arr[mid] < target) {\n",
       "        return binarySearchHelper(arr, target, mid+1, right)\n",
       "    }\n",
       "}\n",
       "\n",
       "// test\n",
       "const nums = [12,21,34,36,56,77,78]\n",
       "console.log(binarySearch(nums, 56))\n"
      ],
      "text/plain": [
       "<IPython.core.display.Javascript object>"
      ]
     },
     "metadata": {},
     "output_type": "display_data"
    }
   ],
   "source": [
    "%%javascript\n",
    "\n",
    "const binarySearch = (arr, target) => {\n",
    "    return binarySearchHelper(arr, target, 0, arr.length-1)\n",
    "}\n",
    "\n",
    "const binarySearchHelper = (arr, target, left, right) => {\n",
    "    if (left > right) {\n",
    "        return false\n",
    "    }\n",
    "    \n",
    "    let mid = Math.floor((left + right) / 2)\n",
    "    \n",
    "    if (arr[mid] === target) {\n",
    "        return mid\n",
    "    } else if (arr[mid] > target) {\n",
    "        return binarySearchHelper(arr, target, left, mid-1)\n",
    "    } else if (arr[mid] < target) {\n",
    "        return binarySearchHelper(arr, target, mid+1, right)\n",
    "    }\n",
    "}\n",
    "// Time: O(log(n))\n",
    "// Space: O(log(n))\n",
    "\n",
    "\n",
    "// test\n",
    "const nums = [12,21,34,36,56,77,78]\n",
    "console.log(binarySearch(nums, 56))"
   ]
  },
  {
   "cell_type": "markdown",
   "metadata": {},
   "source": [
    "## Array Sum"
   ]
  },
  {
   "cell_type": "code",
   "execution_count": 1,
   "metadata": {},
   "outputs": [
    {
     "data": {
      "application/javascript": [
       "\n",
       "const sumArr = (arr) => {\n",
       "    if (arr.length === 0) return 0\n",
       "    \n",
       "    else return arr[0] + sumArr(arr.slice(1)) // n * n time, how to optimize?\n",
       "}\n",
       "// Time: O(n^2). How to improve?\n",
       "// Space: O(n)\n",
       "\n",
       "\n",
       "// test\n",
       "console.log(sumArr([1,3,5, -2 ,4]))\n",
       "\n",
       "\n",
       "// Evaluation\n",
       "const input = new Array(900).fill(1)\n",
       "const start1 = Date.now()\n",
       "console.log(sumArr(input))\n",
       "const end1 = Date.now()\n",
       "console.log(end1-start1)\n"
      ],
      "text/plain": [
       "<IPython.core.display.Javascript object>"
      ]
     },
     "metadata": {},
     "output_type": "display_data"
    }
   ],
   "source": [
    "%%javascript\n",
    "\n",
    "const sumArr = (arr) => {\n",
    "    if (arr.length === 0) return 0\n",
    "    \n",
    "    else return arr[0] + sumArr(arr.slice(1)) // n * n time, how to optimize?\n",
    "}\n",
    "// Time: O(n^2). How to improve?\n",
    "// Space: O(n)\n",
    "\n",
    "\n",
    "// test\n",
    "console.log(sumArr([1,3,5, -2 ,4]))\n",
    "\n",
    "\n",
    "// Evaluation\n",
    "const input = new Array(900).fill(1)\n",
    "const start = Date.now()\n",
    "console.log(sumArr(input))\n",
    "const end = Date.now()\n",
    "console.log(end - start)"
   ]
  },
  {
   "cell_type": "code",
   "execution_count": 9,
   "metadata": {},
   "outputs": [
    {
     "data": {
      "application/javascript": [
       "\n",
       "const sumArrWithIdx = (arr) => {\n",
       "    return sumArrWithIdxHelper(arr, 0)\n",
       "}\n",
       "\n",
       "const sumArrWithIdxHelper = (arr, idx) => {\n",
       "    if (idx === arr.length) return 0\n",
       "    \n",
       "    else return arr[idx] + sumArrWithIdxHelper(arr, idx + 1)  // n times\n",
       "}\n",
       "\n",
       "\n",
       "// test\n",
       "console.log(sumArrWithIdx([1,3,5, -2 ,4]))\n",
       "\n",
       "\n",
       "// evaluation\n",
       "const input = new Array(900).fill(1)\n",
       "const start = Date.now()\n",
       "console.log(sumArrWithIdx(input))\n",
       "const end = Date.now()\n",
       "console.log(end - start)\n"
      ],
      "text/plain": [
       "<IPython.core.display.Javascript object>"
      ]
     },
     "metadata": {},
     "output_type": "display_data"
    }
   ],
   "source": [
    "%%javascript\n",
    "\n",
    "const sumArrWithIdx = (arr) => {\n",
    "    return sumArrWithIdxHelper(arr, 0)\n",
    "}\n",
    "\n",
    "const sumArrWithIdxHelper = (arr, idx) => {\n",
    "    if (idx === arr.length) return 0\n",
    "    \n",
    "    else return arr[idx] + sumArrWithIdxHelper(arr, idx + 1)  // n times\n",
    "}\n",
    "\n",
    "\n",
    "// test\n",
    "console.log(sumArrWithIdx([1,3,5, -2 ,4]))\n",
    "\n",
    "\n",
    "// evaluation\n",
    "const input = new Array(900).fill(1)\n",
    "const start = Date.now()\n",
    "console.log(sumArrWithIdx(input))\n",
    "const end = Date.now()\n",
    "console.log(end - start)"
   ]
  },
  {
   "cell_type": "markdown",
   "metadata": {},
   "source": [
    "## Fib"
   ]
  },
  {
   "cell_type": "code",
   "execution_count": 26,
   "metadata": {},
   "outputs": [
    {
     "data": {
      "application/javascript": [
       "\n",
       "const fibArr = (numbers) => {\n",
       "    const arr = []\n",
       "    while (numbers >= 1) {\n",
       "        arr.unshift(fibHelper(numbers))\n",
       "        numbers--\n",
       "    }\n",
       "\n",
       "    return arr\n",
       "}\n",
       "\n",
       "const fibHelper = (numbers) => {\n",
       "    if (numbers === 1 || numbers === 2) return 1\n",
       "    else if (numbers > 2) return fibHelper(numbers - 1) + fibHelper(numbers - 2)\n",
       "}\n",
       "\n",
       "console.log(fibArr(5))\n"
      ],
      "text/plain": [
       "<IPython.core.display.Javascript object>"
      ]
     },
     "metadata": {},
     "output_type": "display_data"
    }
   ],
   "source": [
    "%%javascript\n",
    "\n",
    "const fibArr = (numbers) => {\n",
    "    const arr = []\n",
    "    while (numbers >= 1) {\n",
    "        arr.unshift(fibHelper(numbers))\n",
    "        numbers--\n",
    "    }\n",
    "\n",
    "    return arr\n",
    "}\n",
    "\n",
    "const fibHelper = (numbers) => {\n",
    "    if (numbers === 1 || numbers === 2) return 1\n",
    "    else if (numbers > 2) return fibHelper(numbers - 1) + fibHelper(numbers - 2)\n",
    "}\n",
    "// Time: O(2^n)\n",
    "// Space: O(n)\n",
    "\n",
    "console.log(fibArr(5))"
   ]
  },
  {
   "cell_type": "markdown",
   "metadata": {},
   "source": [
    "## Combinations\n",
    "\n",
    "- A collection of things where the order does not matter. \n",
    "- `2^n`"
   ]
  },
  {
   "cell_type": "code",
   "execution_count": 30,
   "metadata": {},
   "outputs": [
    {
     "data": {
      "application/javascript": [
       "\n",
       "const combinations = (elements) => {\n",
       "    if (elements.length === 0) return [ [] ]\n",
       "    \n",
       "    const firstEle = elements[0]\n",
       "    const rest = elements.slice(1)\n",
       "    \n",
       "    const combsWithoutFirst = combinations(rest)\n",
       "    const combsWithFirst = []\n",
       "    combsWithoutFirst.forEach(comb => {\n",
       "        const combWithFirst = [...comb, firstEle]\n",
       "        combsWithFirst.push(combWithFirst)\n",
       "    })\n",
       "    \n",
       "    return [...combsWithoutFirst, ...combsWithFirst]\n",
       "}\n",
       "\n",
       "console.log(combinations([]))\n",
       "console.log(combinations(['a', 'b', 'c']))\n"
      ],
      "text/plain": [
       "<IPython.core.display.Javascript object>"
      ]
     },
     "metadata": {},
     "output_type": "display_data"
    }
   ],
   "source": [
    "%%javascript\n",
    "\n",
    "const combinations = (elements) => {\n",
    "    if (elements.length === 0) return [ [] ]\n",
    "    \n",
    "    const firstEle = elements[0]\n",
    "    const rest = elements.slice(1)\n",
    "    \n",
    "    const combsWithoutFirst = combinations(rest)\n",
    "    const combsWithFirst = []\n",
    "    combsWithoutFirst.forEach(comb => {\n",
    "        const combWithFirst = [...comb, firstEle]\n",
    "        combsWithFirst.push(combWithFirst)\n",
    "    })\n",
    "    \n",
    "    return [...combsWithoutFirst, ...combsWithFirst]\n",
    "}\n",
    "\n",
    "// Time: O(2^n)\n",
    "// Space: O(n^2)\n",
    "\n",
    "console.log(combinations([]))\n",
    "console.log(combinations(['a', 'b', 'c']))"
   ]
  },
  {
   "cell_type": "markdown",
   "metadata": {},
   "source": [
    "## Permutations\n",
    "\n",
    "- A collection of things where the order matters. \n",
    "- `n!`"
   ]
  },
  {
   "cell_type": "code",
   "execution_count": 7,
   "metadata": {},
   "outputs": [
    {
     "data": {
      "application/javascript": [
       "\n",
       "const permutations = (elements) => {\n",
       "    if (elements.length === 0) return [ [] ]\n",
       "    \n",
       "    const firstEle = elements[0]\n",
       "    const rest = elements.slice(1)\n",
       "\n",
       "    \n",
       "    const permsWithoutFirst = permutations(rest)\n",
       "\n",
       "    const allPerms = []\n",
       "    permsWithoutFirst.forEach(perm => {\n",
       "        for (let i = 0; i <= perm.length; i++) {\n",
       "            const permWithFirst = [...perm.slice(0, i), firstEle, ...perm.slice(i)]\n",
       "            allPerms.push(permWithFirst)\n",
       "        }\n",
       "    })\n",
       "    return allPerms              \n",
       "}\n",
       "\n",
       "\n",
       "console.log(permutations([]))\n",
       "console.log(permutations(['a', 'b', 'c']))\n"
      ],
      "text/plain": [
       "<IPython.core.display.Javascript object>"
      ]
     },
     "metadata": {},
     "output_type": "display_data"
    }
   ],
   "source": [
    "%%javascript\n",
    "\n",
    "const permutations = (elements) => {\n",
    "    if (elements.length === 0) return [ [] ]\n",
    "    \n",
    "    const firstEle = elements[0]\n",
    "    const rest = elements.slice(1)\n",
    "\n",
    "    \n",
    "    const permsWithoutFirst = permutations(rest)\n",
    "\n",
    "    const allPerms = []\n",
    "    permsWithoutFirst.forEach(perm => {\n",
    "        for (let i = 0; i <= perm.length; i++) {\n",
    "            const permWithFirst = [...perm.slice(0, i), firstEle, ...perm.slice(i)]\n",
    "            allPerms.push(permWithFirst)\n",
    "        }\n",
    "    })\n",
    "    return allPerms              \n",
    "}\n",
    "\n",
    "\n",
    "console.log(permutations([]))\n",
    "console.log(permutations(['a', 'b', 'c']))"
   ]
  },
  {
   "cell_type": "code",
   "execution_count": null,
   "metadata": {},
   "outputs": [],
   "source": []
  }
 ],
 "metadata": {
  "kernelspec": {
   "display_name": "Python 3",
   "language": "python",
   "name": "python3"
  },
  "language_info": {
   "codemirror_mode": {
    "name": "ipython",
    "version": 3
   },
   "file_extension": ".py",
   "mimetype": "text/x-python",
   "name": "python",
   "nbconvert_exporter": "python",
   "pygments_lexer": "ipython3",
   "version": "3.8.5"
  },
  "toc": {
   "base_numbering": 1,
   "nav_menu": {},
   "number_sections": true,
   "sideBar": true,
   "skip_h1_title": false,
   "title_cell": "Table of Contents",
   "title_sidebar": "Contents",
   "toc_cell": false,
   "toc_position": {},
   "toc_section_display": true,
   "toc_window_display": false
  }
 },
 "nbformat": 4,
 "nbformat_minor": 4
}
