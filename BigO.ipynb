{
 "cells": [
  {
   "cell_type": "markdown",
   "metadata": {},
   "source": [
    "# Big O Notation\n",
    "\n",
    "write a function, unique(), that takes an array and return a new array containing the unique elements\n",
    "\n",
    "- Example:\n",
    "\n",
    "```\n",
    "unique(['cat', 'dog', 'horse', 'cat', 'dog'])\n",
    "// return ['cat', 'dog', 'horse']\n",
    "```"
   ]
  },
  {
   "cell_type": "code",
   "execution_count": 12,
   "metadata": {},
   "outputs": [
    {
     "data": {
      "application/javascript": [
       "\n",
       "const unique = (arr) => {\n",
       "    const newArr = []\n",
       "    for (let i = 0; i < arr.length; i++) { // n times\n",
       "        const ele = arr[i]\n",
       "        if (!newArr.includes(ele)) {  // n times in worst situation\n",
       "            newArr.push(ele)\n",
       "        }\n",
       "    }\n",
       "    console.log(newArr)\n",
       "}\n",
       "\n",
       "unique(['cat', 'dog', 'horse', 'cat', 'dog'])\n",
       "\n",
       "// O(n^2) time, O(n) space, where n is the input array size\n"
      ],
      "text/plain": [
       "<IPython.core.display.Javascript object>"
      ]
     },
     "metadata": {},
     "output_type": "display_data"
    }
   ],
   "source": [
    "%%javascript\n",
    "\n",
    "const unique = (arr) => {\n",
    "    const newArr = []\n",
    "    for (let i = 0; i < arr.length; i++) { // n times\n",
    "        const ele = arr[i]\n",
    "        if (!newArr.includes(ele)) {       // n times in worst situation\n",
    "            newArr.push(ele)\n",
    "        }\n",
    "    }\n",
    "    console.log(newArr)                    // 1 time\n",
    "}\n",
    "\n",
    "unique(['cat', 'dog', 'horse', 'cat', 'dog'])\n",
    "\n",
    "// O(n^2) time, O(n) space, where n is the input array size"
   ]
  },
  {
   "cell_type": "code",
   "execution_count": 4,
   "metadata": {},
   "outputs": [
    {
     "data": {
      "application/javascript": [
       "\n",
       "const unique = (arr) => {\n",
       "    const newSet = new Set()\n",
       "\n",
       "    for (let i = 0; i < arr.length; i++) {\n",
       "        const ele = arr[i]\n",
       "        newSet.add(ele)\n",
       "    }\n",
       "    console.log(Array.from(newSet))\n",
       "}\n",
       "\n",
       "unique(['cat', 'dog', 'horse', 'cat', 'dog'])\n"
      ],
      "text/plain": [
       "<IPython.core.display.Javascript object>"
      ]
     },
     "metadata": {},
     "output_type": "display_data"
    }
   ],
   "source": [
    "%%javascript\n",
    "\n",
    "const unique = (arr) => {\n",
    "    const newSet = new Set()\n",
    "\n",
    "    for (let i = 0; i < arr.length; i++) {  // n times\n",
    "        const ele = arr[i]\n",
    "        newSet.add(ele)                     // 1 time\n",
    "    }\n",
    "    console.log(Array.from(newSet))         // n times\n",
    "}\n",
    "\n",
    "unique(['cat', 'dog', 'horse', 'cat', 'dog'])\n",
    "\n",
    "// O(n) time, O(n) space, where n is the input array size"
   ]
  },
  {
   "cell_type": "markdown",
   "metadata": {},
   "source": [
    "# Common Complexity Classes\n",
    "\n",
    "![Big O cheat sheet](http://biercoff.com/content/images/2016/07/Screenshot-2016-07-15-16-16-10.png)\n",
    "\n",
    "## Constant - O(1)"
   ]
  },
  {
   "cell_type": "code",
   "execution_count": 8,
   "metadata": {},
   "outputs": [
    {
     "data": {
      "application/javascript": [
       "\n",
       "const foo = (n) => {\n",
       "    let result = 0\n",
       "    \n",
       "    for (let i = 0; i < 5; i++) {  // O(1)\n",
       "        result += n\n",
       "    }\n",
       "    \n",
       "    return result\n",
       "}\n",
       "\n",
       "console.log(foo(4))\n",
       "\n",
       "\n",
       "const bar = (array) => {\n",
       "    return array[0] * array[array.length - 1]\n",
       "}\n",
       "\n",
       "console.log(bar([2,5,4,98,5]))\n"
      ],
      "text/plain": [
       "<IPython.core.display.Javascript object>"
      ]
     },
     "metadata": {},
     "output_type": "display_data"
    }
   ],
   "source": [
    "%%javascript\n",
    "\n",
    "const foo = (n) => {\n",
    "    let result = 0\n",
    "    \n",
    "    for (let i = 0; i < 5; i++) {  // O(1)\n",
    "        result += n\n",
    "    }\n",
    "    \n",
    "    return result\n",
    "}\n",
    "\n",
    "console.log(foo(4))\n",
    "\n",
    "\n",
    "const bar = (array) => {\n",
    "    return array[0] * array[array.length - 1]\n",
    "}\n",
    "\n",
    "console.log(bar([2,5,4,98,5]))"
   ]
  },
  {
   "cell_type": "markdown",
   "metadata": {},
   "source": [
    "## Logarithmic - O(log(n))"
   ]
  },
  {
   "cell_type": "code",
   "execution_count": 11,
   "metadata": {},
   "outputs": [
    {
     "data": {
      "application/javascript": [
       "\n",
       "const fun = (n) => {\n",
       "    while (n > 1) {\n",
       "        console.log(n)\n",
       "        n /= 2\n",
       "    }\n",
       "    console.log(\"done\")\n",
       "}\n",
       "\n",
       "console.log(fun(36))\n"
      ],
      "text/plain": [
       "<IPython.core.display.Javascript object>"
      ]
     },
     "metadata": {},
     "output_type": "display_data"
    }
   ],
   "source": [
    "%%javascript\n",
    "\n",
    "const fun = (n) => {\n",
    "    while (n > 1) {\n",
    "        console.log(n)\n",
    "        n /= 2\n",
    "    }\n",
    "    console.log(\"done\")\n",
    "}\n",
    "\n",
    "console.log(fun(36))"
   ]
  },
  {
   "cell_type": "code",
   "execution_count": 4,
   "metadata": {},
   "outputs": [
    {
     "data": {
      "application/javascript": [
       "\n",
       "const foo = (n) => {\n",
       "    if (n <= 1) {\n",
       "        console.log(n)\n",
       "        return\n",
       "    }\n",
       "    console.log(n)\n",
       "    foo(n/2)\n",
       "//     console.log(n)\n",
       "}\n",
       "\n",
       "foo(32)\n"
      ],
      "text/plain": [
       "<IPython.core.display.Javascript object>"
      ]
     },
     "metadata": {},
     "output_type": "display_data"
    }
   ],
   "source": [
    "%%javascript\n",
    "\n",
    "const foo = (n) => {\n",
    "    if (n <= 1) {\n",
    "        console.log(n)\n",
    "        return\n",
    "    }\n",
    "    console.log(n)\n",
    "    foo(n/2)\n",
    "//     console.log(n)   // try this one\n",
    "}\n",
    "\n",
    "foo(32)"
   ]
  },
  {
   "cell_type": "markdown",
   "metadata": {},
   "source": [
    "## Linear - O(n)"
   ]
  },
  {
   "cell_type": "code",
   "execution_count": 6,
   "metadata": {},
   "outputs": [
    {
     "data": {
      "application/javascript": [
       "\n",
       "const bar = (n) => {\n",
       "    if (n <= 0) {\n",
       "        console.log(n)\n",
       "        return\n",
       "    }\n",
       "    console.log(n)\n",
       "    bar(n-1)\n",
       "}\n",
       "\n",
       "bar(8)\n"
      ],
      "text/plain": [
       "<IPython.core.display.Javascript object>"
      ]
     },
     "metadata": {},
     "output_type": "display_data"
    }
   ],
   "source": [
    "%%javascript\n",
    "\n",
    "const bar = (n) => {\n",
    "    if (n <= 0) {\n",
    "        console.log(n)\n",
    "        return\n",
    "    }\n",
    "    console.log(n)\n",
    "    bar(n-1)\n",
    "}\n",
    "\n",
    "bar(8)"
   ]
  },
  {
   "cell_type": "markdown",
   "metadata": {},
   "source": [
    "## Loglinear - O(n*log(n))"
   ]
  },
  {
   "cell_type": "code",
   "execution_count": 11,
   "metadata": {},
   "outputs": [
    {
     "data": {
      "application/javascript": [
       "\n",
       "const bar = (str) => {\n",
       "    console.log(str)\n",
       "    if (str.length <= 1) {\n",
       "        return\n",
       "    }\n",
       "    let midIndex = Math.floor(str.length / 2)\n",
       "    bar(str.slice(0, midIndex))\n",
       "}\n",
       "\n",
       "bar(\"abcdefghijklmnopqrstuvwxyz\")\n"
      ],
      "text/plain": [
       "<IPython.core.display.Javascript object>"
      ]
     },
     "metadata": {},
     "output_type": "display_data"
    }
   ],
   "source": [
    "%%javascript\n",
    "\n",
    "const bar = (str) => {\n",
    "    console.log(str)\n",
    "    if (str.length <= 1) {\n",
    "        return\n",
    "    }\n",
    "    let midIndex = Math.floor(str.length / 2)  // log(n)\n",
    "    bar(str.slice(0, midIndex))                // n/2\n",
    "}\n",
    "\n",
    "bar(\"abcdefghijklmnopqrstuvwxyz\")"
   ]
  },
  {
   "cell_type": "code",
   "execution_count": 13,
   "metadata": {},
   "outputs": [
    {
     "data": {
      "application/javascript": [
       "\n",
       "const foo = (array) => {\n",
       "    let str = \"\"\n",
       "    for (let i = 0; i < array.length; i++) {\n",
       "        str += array[i]\n",
       "    }\n",
       "    console.log(str)\n",
       "    console.log(\"------\")\n",
       "    \n",
       "    if (array.length <= 1) {\n",
       "        return\n",
       "    } \n",
       "    \n",
       "    const midIdx = Math.floor(array.length / 2)\n",
       "    const left = array.slice(0, midIdx)\n",
       "    const right = array.slice(midIdx)\n",
       "    foo(left)\n",
       "    foo(right)\n",
       "}\n",
       "\n",
       "foo(\"abcdefghijklmnopqrstuvwxyz\".split(\"\"))\n"
      ],
      "text/plain": [
       "<IPython.core.display.Javascript object>"
      ]
     },
     "metadata": {},
     "output_type": "display_data"
    }
   ],
   "source": [
    "%%javascript\n",
    "\n",
    "const foo = (array) => {\n",
    "    let str = \"\"\n",
    "    for (let i = 0; i < array.length; i++) {\n",
    "        str += array[i]\n",
    "    }\n",
    "    console.log(str)\n",
    "    console.log(\"------\")\n",
    "    \n",
    "    if (array.length <= 1) {\n",
    "        return\n",
    "    } \n",
    "    \n",
    "    const midIdx = Math.floor(array.length / 2)\n",
    "    const left = array.slice(0, midIdx)\n",
    "    const right = array.slice(midIdx)\n",
    "    foo(left)\n",
    "    foo(right)\n",
    "}\n",
    "\n",
    "foo(\"abcdefghijklmnopqrstuvwxyz\".split(\"\"))"
   ]
  },
  {
   "cell_type": "markdown",
   "metadata": {},
   "source": [
    "## Polynomial - O(n^c)"
   ]
  },
  {
   "cell_type": "code",
   "execution_count": 5,
   "metadata": {},
   "outputs": [
    {
     "data": {
      "application/javascript": [
       "\n",
       "// O(n^2)\n",
       "const foo = (arr) => {\n",
       "    for (let i = 0; i < arr.length; i++) {\n",
       "        for (let j = 0; j < arr.length; j++) {\n",
       "            console.log(arr[i] + \"/\" + arr[j])\n",
       "        }\n",
       "    }\n",
       "}\n",
       "\n",
       "foo(['rose', 'berrey', 'bell'])\n",
       "\n",
       "// O(n^3)\n",
       "const bar = (n) => {\n",
       "    for (let i = 0; i < n; i++) {\n",
       "        for (let j = 0; j < n; j++) {\n",
       "            for (let k = 0; k < n; k++) {\n",
       "                console.log(i, j, k)\n",
       "            }\n",
       "        }\n",
       "    }\n",
       "}\n",
       "\n",
       "bar(8)\n"
      ],
      "text/plain": [
       "<IPython.core.display.Javascript object>"
      ]
     },
     "metadata": {},
     "output_type": "display_data"
    }
   ],
   "source": [
    "%%javascript\n",
    "\n",
    "// O(n^2)\n",
    "const foo = (arr) => {\n",
    "    for (let i = 0; i < arr.length; i++) {\n",
    "        for (let j = 0; j < arr.length; j++) {\n",
    "            console.log(arr[i] + \"/\" + arr[j])\n",
    "        }\n",
    "    }\n",
    "}\n",
    "\n",
    "foo(['rose', 'berrey', 'bell'])\n",
    "\n",
    "// O(n^3)\n",
    "const bar = (n) => {\n",
    "    for (let i = 0; i < n; i++) {\n",
    "        for (let j = 0; j < n; j++) {\n",
    "            for (let k = 0; k < n; k++) {\n",
    "                console.log(i, j, k)\n",
    "            }\n",
    "        }\n",
    "    }\n",
    "}\n",
    "\n",
    "bar(8)"
   ]
  },
  {
   "cell_type": "code",
   "execution_count": 7,
   "metadata": {},
   "outputs": [
    {
     "data": {
      "application/javascript": [
       "\n",
       "// O(n^2) recursive\n",
       "let bar = (str) => {\n",
       "    if (str.length === 0) return\n",
       "    \n",
       "    console.log(str[0])\n",
       "    const rest = str.slice(1)\n",
       "    bar(rest)\n",
       "}\n",
       "\n",
       "bar(\"abc\")\n"
      ],
      "text/plain": [
       "<IPython.core.display.Javascript object>"
      ]
     },
     "metadata": {},
     "output_type": "display_data"
    }
   ],
   "source": [
    "%%javascript\n",
    "\n",
    "// O(n^2) recursive\n",
    "let bar = (str) => {\n",
    "    if (str.length === 0) return  // n\n",
    "    \n",
    "    console.log(str[0]) \n",
    "    const rest = str.slice(1)     // n\n",
    "    bar(rest)\n",
    "}\n",
    "\n",
    "bar(\"abc\")"
   ]
  },
  {
   "cell_type": "markdown",
   "metadata": {},
   "source": [
    "## Exponential - O(c^n)"
   ]
  },
  {
   "cell_type": "code",
   "execution_count": 11,
   "metadata": {},
   "outputs": [
    {
     "data": {
      "application/javascript": [
       "\n",
       "const foo = (n) => {\n",
       "    if (n <= 1) return\n",
       "     \n",
       "    console.log(n)\n",
       "    \n",
       "    foo(n - 1)\n",
       "    foo(n - 1)\n",
       "\n",
       "}\n",
       "\n",
       "foo(10)\n"
      ],
      "text/plain": [
       "<IPython.core.display.Javascript object>"
      ]
     },
     "metadata": {},
     "output_type": "display_data"
    }
   ],
   "source": [
    "%%javascript\n",
    "\n",
    "const foo = (n) => {\n",
    "    if (n <= 1) return\n",
    "     \n",
    "    console.log(n)\n",
    "    \n",
    "    foo(n - 1)\n",
    "    foo(n - 1)\n",
    "\n",
    "}\n",
    "\n",
    "foo(10)"
   ]
  },
  {
   "cell_type": "markdown",
   "metadata": {},
   "source": [
    "## Factorials - O(n!)"
   ]
  },
  {
   "cell_type": "code",
   "execution_count": 14,
   "metadata": {},
   "outputs": [
    {
     "data": {
      "application/javascript": [
       "\n",
       "const foo = (n) => {\n",
       "    if (n <= 1) return\n",
       "    \n",
       "    for (let i = 0; i < n; i++) {\n",
       "        console.log(n)\n",
       "        foo(n - 1)\n",
       "    }\n",
       "}\n",
       "\n",
       "foo(5)\n"
      ],
      "text/plain": [
       "<IPython.core.display.Javascript object>"
      ]
     },
     "metadata": {},
     "output_type": "display_data"
    }
   ],
   "source": [
    "%%javascript\n",
    "\n",
    "const foo = (n) => {\n",
    "    if (n <= 1) return\n",
    "    \n",
    "    for (let i = 0; i < n; i++) {\n",
    "        console.log(n)\n",
    "        foo(n - 1)\n",
    "    }\n",
    "}\n",
    "\n",
    "foo(5)"
   ]
  },
  {
   "cell_type": "markdown",
   "metadata": {},
   "source": [
    "# Analyzing Multi-argument Functions"
   ]
  },
  {
   "cell_type": "code",
   "execution_count": 16,
   "metadata": {},
   "outputs": [
    {
     "data": {
      "application/javascript": [
       "\n",
       "const foo = (n, m) => {\n",
       "    for (let i = 0; i < n; i++) {\n",
       "        console.log(\"hi\")\n",
       "    }\n",
       "    \n",
       "    for (let i = 0; i < m; i++) {\n",
       "        console.log(\"bye\")\n",
       "    }\n",
       "}\n",
       "\n",
       "foo(4,6)\n",
       "\n",
       "// O(m+n) time, where n, m are input numbers\n"
      ],
      "text/plain": [
       "<IPython.core.display.Javascript object>"
      ]
     },
     "metadata": {},
     "output_type": "display_data"
    }
   ],
   "source": [
    "%%javascript\n",
    "\n",
    "const foo = (n, m) => {\n",
    "    for (let i = 0; i < n; i++) {\n",
    "        console.log(\"hi\")\n",
    "    }\n",
    "    \n",
    "    for (let i = 0; i < m; i++) {\n",
    "        console.log(\"bye\")\n",
    "    }\n",
    "}\n",
    "\n",
    "foo(4,6)\n",
    "\n",
    "// O(m+n) time, where n, m are input numbers"
   ]
  },
  {
   "cell_type": "code",
   "execution_count": 19,
   "metadata": {},
   "outputs": [
    {
     "data": {
      "application/javascript": [
       "\n",
       "const crossPairs = (colors, clothes) => {\n",
       "    for (let i = 0; i < colors.length; i++) {\n",
       "        for (let j = 0; j < clothes.length; j++) {\n",
       "            console.log(colors[i], clothes[j])\n",
       "        }\n",
       "    }\n",
       "}\n",
       "\n",
       "crossPairs(['red', 'blue', 'yellow'], ['skirt', 'shirt', 'jeans'])\n"
      ],
      "text/plain": [
       "<IPython.core.display.Javascript object>"
      ]
     },
     "metadata": {},
     "output_type": "display_data"
    }
   ],
   "source": [
    "%%javascript\n",
    "\n",
    "const crossPairs = (colors, clothes) => {\n",
    "    for (let i = 0; i < colors.length; i++) {\n",
    "        for (let j = 0; j < clothes.length; j++) {\n",
    "            console.log(colors[i], clothes[j])\n",
    "        }\n",
    "    }\n",
    "}\n",
    "\n",
    "crossPairs(['red', 'blue', 'yellow'], ['skirt', 'shirt', 'jeans'])\n",
    "\n",
    "// O(m*n) time, where n, m are array lengths"
   ]
  },
  {
   "cell_type": "code",
   "execution_count": 20,
   "metadata": {},
   "outputs": [
    {
     "data": {
      "application/javascript": [
       "\n",
       "const foo = (str1, str2) => {\n",
       "    if (str1.length > str2.length) {\n",
       "        for (let i = 0; i < str1.length; i++) {\n",
       "            console.log(str1[i])\n",
       "        }\n",
       "    } else {\n",
       "        for (let j = 0; j < str2.length; j++) {\n",
       "            console.log(str1[j])\n",
       "        }\n",
       "    }\n",
       "}\n",
       "\n",
       "foo('alpha', 'beta')\n"
      ],
      "text/plain": [
       "<IPython.core.display.Javascript object>"
      ]
     },
     "metadata": {},
     "output_type": "display_data"
    }
   ],
   "source": [
    "%%javascript\n",
    "\n",
    "const foo = (str1, str2) => {\n",
    "    if (str1.length > str2.length) {\n",
    "        for (let i = 0; i < str1.length; i++) {\n",
    "            console.log(str1[i])\n",
    "        }\n",
    "    } else {\n",
    "        for (let j = 0; j < str2.length; j++) {\n",
    "            console.log(str1[j])\n",
    "        }\n",
    "    }\n",
    "}\n",
    "\n",
    "foo('alpha', 'beta')\n",
    "\n",
    "// O(max(m, n)) time, where n, m are the string lengths"
   ]
  },
  {
   "cell_type": "markdown",
   "metadata": {},
   "source": [
    "# Analyzing Stack Space for Recursion\n",
    "\n",
    "- The space required on the call stack is the muximum stack depth."
   ]
  },
  {
   "cell_type": "code",
   "execution_count": null,
   "metadata": {},
   "outputs": [],
   "source": [
    "%%javascript\n",
    "\n",
    "const foo = (n) => {\n",
    "    if (n <= 1) return\n",
    "     \n",
    "    console.log(n)\n",
    "    \n",
    "    foo(n - 1)\n",
    "    foo(n - 1)\n",
    "\n",
    "}\n",
    "\n",
    "foo(4)\n",
    "\n",
    "// O(2^n) time, O(n) space\n",
    "// recursion is a stack\n",
    "// whene stack reached top, the last value will be poped, then the next branch\n",
    "\n",
    "// 1\n",
    "// 2\n",
    "// 3\n",
    "// 4"
   ]
  }
 ],
 "metadata": {
  "kernelspec": {
   "display_name": "Python 3",
   "language": "python",
   "name": "python3"
  },
  "language_info": {
   "codemirror_mode": {
    "name": "ipython",
    "version": 3
   },
   "file_extension": ".py",
   "mimetype": "text/x-python",
   "name": "python",
   "nbconvert_exporter": "python",
   "pygments_lexer": "ipython3",
   "version": "3.8.5"
  },
  "toc": {
   "base_numbering": 1,
   "nav_menu": {},
   "number_sections": true,
   "sideBar": true,
   "skip_h1_title": false,
   "title_cell": "Table of Contents",
   "title_sidebar": "Contents",
   "toc_cell": false,
   "toc_position": {},
   "toc_section_display": true,
   "toc_window_display": false
  }
 },
 "nbformat": 4,
 "nbformat_minor": 4
}
