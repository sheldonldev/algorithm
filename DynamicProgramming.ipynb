{
 "cells": [
  {
   "cell_type": "markdown",
   "metadata": {},
   "source": [
    "# Dynamic Programming\n",
    "\n",
    "## Memoization\n",
    "\n",
    "- Memoization Recipe:\n",
    "    - visualize the problem as a tree\n",
    "    - implement the tree using recursion\n",
    "    - test it\n",
    "    - add a memo object with arguments of the function as keys and values as return values\n",
    "    - add a base case to return memo values\n",
    "    - store return values to the memo\n",
    "\n",
    "### Fibonacci\n",
    "\n",
    "Write a function `fib(n)` that takes in a number as an argument, returns the `n`th number of the Fibonacci sequence.\n",
    "\n",
    "[code](https://github.com/sheldonldev/algorithm/blob/main/memoizationFib.js)"
   ]
  },
  {
   "cell_type": "markdown",
   "metadata": {},
   "source": [
    "### Grid Traveler\n",
    "\n",
    "You are a traveler on a 2D grid, begin in the top-left corner, to traval to the bottom-right, can only move down or right. How many ways you can move in `m * n` grid. Write a function `gridTraveler(m, n)` to calculate.\n",
    "\n",
    "[code](https://github.com/sheldonldev/algorithm/blob/main/memoizationGridTraveler.js)"
   ]
  },
  {
   "cell_type": "markdown",
   "metadata": {},
   "source": [
    "### Can Sum\n",
    "\n",
    "Write a function `canSum(targetSum, numbers)` that takes in a targetSum and an array of numbers as arguments. The function should return a boolean indicateing wheather or not it is possible to generate the targetSum using numbers from the array.\n",
    "\n",
    "```\n",
    "canSum(7, [5, 3, 4, 7]) -> true\n",
    "canSum(7, [5, 4]) -> false\n",
    "```"
   ]
  },
  {
   "cell_type": "markdown",
   "metadata": {},
   "source": [
    "### How Sum\n",
    "\n",
    "Write a function `howSum(targetSum, numbers)` that takes in a target sum and an array of numbers as arguments. The function should return an array containing any combination of elements that add up to exactly the targetSum. If there is no combination that adds up to the target sum, then return `null`. If there are multiple combinations, you may return any single one.\n",
    "\n",
    "\n",
    "```\n",
    "canSum(7, [5, 3, 4, 7]) -> [3, 4]\n",
    "canSum(7, [5, 4]) -> null\n",
    "```"
   ]
  },
  {
   "cell_type": "markdown",
   "metadata": {},
   "source": [
    "### Best Sum\n",
    "\n",
    "Write a function `bestSum(targetSum, numbers)` that takes in a target sum and an array of numbers as arguments. The function should return an array containing the shortest combination of numbers that adds up to exactly the targetSum. If there is a tie for the shortest combination, you should return any one of the shortest.\n",
    "\n",
    "\n",
    "```\n",
    "canSum(7, [5, 3, 4, 7]) -> [7]\n",
    "canSum(7, [5, 4]) -> null\n",
    "```\n"
   ]
  },
  {
   "cell_type": "markdown",
   "metadata": {},
   "source": [
    "## Tabulation"
   ]
  },
  {
   "cell_type": "code",
   "execution_count": null,
   "metadata": {},
   "outputs": [],
   "source": []
  }
 ],
 "metadata": {
  "kernelspec": {
   "display_name": "Python 3",
   "language": "python",
   "name": "python3"
  },
  "language_info": {
   "codemirror_mode": {
    "name": "ipython",
    "version": 3
   },
   "file_extension": ".py",
   "mimetype": "text/x-python",
   "name": "python",
   "nbconvert_exporter": "python",
   "pygments_lexer": "ipython3",
   "version": "3.8.5"
  },
  "toc": {
   "base_numbering": 1,
   "nav_menu": {},
   "number_sections": true,
   "sideBar": true,
   "skip_h1_title": false,
   "title_cell": "Table of Contents",
   "title_sidebar": "Contents",
   "toc_cell": false,
   "toc_position": {},
   "toc_section_display": true,
   "toc_window_display": false
  }
 },
 "nbformat": 4,
 "nbformat_minor": 4
}
