{
 "cells": [
  {
   "cell_type": "markdown",
   "metadata": {},
   "source": [
    "# Dynamic Programming"
   ]
  },
  {
   "cell_type": "markdown",
   "metadata": {},
   "source": [
    "## Memoization"
   ]
  },
  {
   "cell_type": "markdown",
   "metadata": {},
   "source": [
    "### Fibonacci"
   ]
  },
  {
   "cell_type": "markdown",
   "metadata": {},
   "source": [
    "write a function `fib(n)` that takes in a number as an argument, returns the `n`th number of the Fibonacci sequence."
   ]
  },
  {
   "cell_type": "code",
   "execution_count": 12,
   "metadata": {},
   "outputs": [
    {
     "data": {
      "application/javascript": [
       "\n",
       "const fib = (n) => {\n",
       "    if (Number.isInteger(n) && n > 0) {\n",
       "        return _fib(n)\n",
       "    } else {\n",
       "        console.log(\"not a legal integer\")\n",
       "        return null\n",
       "    }\n",
       "}\n",
       "\n",
       "const _fib = (n) => {\n",
       "    if (n <= 2) return 1\n",
       "    return fib(n-1) + fib(n-2)\n",
       "}\n",
       "\n",
       "console.log(fib(0))\n"
      ],
      "text/plain": [
       "<IPython.core.display.Javascript object>"
      ]
     },
     "metadata": {},
     "output_type": "display_data"
    }
   ],
   "source": [
    "%%javascript\n",
    "\n",
    "const fib = (n) => {\n",
    "    if (Number.isInteger(n) && n > 0) {\n",
    "        return _fib(n)\n",
    "    } else {\n",
    "        console.log(\"not a legal integer\")\n",
    "        return null\n",
    "    }\n",
    "}\n",
    "\n",
    "const _fib = (n) => {\n",
    "    if (n <= 2) return 1\n",
    "    return fib(n-1) + fib(n-2)\n",
    "}\n",
    "\n",
    "const testList = [1, 2, 4, 8, 16, 32, 64]\n",
    "for (const n of testList) {\n",
    "    \n",
    "    console.log(`calculating the ${testList.indexOf(n)}th number...`)\n",
    "}"
   ]
  },
  {
   "cell_type": "markdown",
   "metadata": {},
   "source": [
    "## Tabulation"
   ]
  },
  {
   "cell_type": "code",
   "execution_count": null,
   "metadata": {},
   "outputs": [],
   "source": []
  }
 ],
 "metadata": {
  "kernelspec": {
   "display_name": "Python 3",
   "language": "python",
   "name": "python3"
  },
  "language_info": {
   "codemirror_mode": {
    "name": "ipython",
    "version": 3
   },
   "file_extension": ".py",
   "mimetype": "text/x-python",
   "name": "python",
   "nbconvert_exporter": "python",
   "pygments_lexer": "ipython3",
   "version": "3.8.5"
  },
  "toc": {
   "base_numbering": 1,
   "nav_menu": {},
   "number_sections": true,
   "sideBar": true,
   "skip_h1_title": false,
   "title_cell": "Table of Contents",
   "title_sidebar": "Contents",
   "toc_cell": false,
   "toc_position": {},
   "toc_section_display": true,
   "toc_window_display": false
  }
 },
 "nbformat": 4,
 "nbformat_minor": 4
}
