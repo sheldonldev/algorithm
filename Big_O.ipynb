{
 "cells": [
  {
   "cell_type": "markdown",
   "metadata": {},
   "source": [
    "# Practice 1\n",
    "\n",
    "write a function, unique(), that takes an array and return a new array containing the unique elements\n",
    "\n",
    "- Example:\n",
    "\n",
    "```\n",
    "unique(['cat', 'dog', 'horse', 'cat', 'dog'])\n",
    "// return ['cat', 'dog', 'horse']\n",
    "```"
   ]
  },
  {
   "cell_type": "markdown",
   "metadata": {},
   "source": [
    "## Method 1"
   ]
  },
  {
   "cell_type": "code",
   "execution_count": 12,
   "metadata": {},
   "outputs": [
    {
     "data": {
      "application/javascript": [
       "\n",
       "const unique = (arr) => {\n",
       "    const newArr = []\n",
       "    for (let i = 0; i < arr.length; i++) { // n times\n",
       "        const ele = arr[i]\n",
       "        if (!newArr.includes(ele)) {  // n times in worst situation\n",
       "            newArr.push(ele)\n",
       "        }\n",
       "    }\n",
       "    console.log(newArr)\n",
       "}\n",
       "\n",
       "unique(['cat', 'dog', 'horse', 'cat', 'dog'])\n",
       "\n",
       "// O(n^2) time, O(n) space, where n is the input array size\n"
      ],
      "text/plain": [
       "<IPython.core.display.Javascript object>"
      ]
     },
     "metadata": {},
     "output_type": "display_data"
    }
   ],
   "source": [
    "%%javascript\n",
    "\n",
    "const unique = (arr) => {\n",
    "    const newArr = []\n",
    "    for (let i = 0; i < arr.length; i++) { // n times\n",
    "        const ele = arr[i]\n",
    "        if (!newArr.includes(ele)) {       // n times in worst situation\n",
    "            newArr.push(ele)\n",
    "        }\n",
    "    }\n",
    "    console.log(newArr)                    // 1 time\n",
    "}\n",
    "\n",
    "unique(['cat', 'dog', 'horse', 'cat', 'dog'])\n",
    "\n",
    "// O(n^2) time, O(n) space, where n is the input array size"
   ]
  },
  {
   "cell_type": "markdown",
   "metadata": {},
   "source": [
    "## Method 2"
   ]
  },
  {
   "cell_type": "code",
   "execution_count": 4,
   "metadata": {},
   "outputs": [
    {
     "data": {
      "application/javascript": [
       "\n",
       "const unique = (arr) => {\n",
       "    const newSet = new Set()\n",
       "\n",
       "    for (let i = 0; i < arr.length; i++) {\n",
       "        const ele = arr[i]\n",
       "        newSet.add(ele)\n",
       "    }\n",
       "    console.log(Array.from(newSet))\n",
       "}\n",
       "\n",
       "unique(['cat', 'dog', 'horse', 'cat', 'dog'])\n"
      ],
      "text/plain": [
       "<IPython.core.display.Javascript object>"
      ]
     },
     "metadata": {},
     "output_type": "display_data"
    }
   ],
   "source": [
    "%%javascript\n",
    "\n",
    "const unique = (arr) => {\n",
    "    const newSet = new Set()\n",
    "\n",
    "    for (let i = 0; i < arr.length; i++) {  // n times\n",
    "        const ele = arr[i]\n",
    "        newSet.add(ele)                     // 1 time\n",
    "    }\n",
    "    console.log(Array.from(newSet))         // n times\n",
    "}\n",
    "\n",
    "unique(['cat', 'dog', 'horse', 'cat', 'dog'])\n",
    "\n",
    "// O(n) time, O(n) space, where n is the input array size"
   ]
  },
  {
   "cell_type": "code",
   "execution_count": null,
   "metadata": {},
   "outputs": [],
   "source": []
  },
  {
   "cell_type": "code",
   "execution_count": null,
   "metadata": {},
   "outputs": [],
   "source": []
  }
 ],
 "metadata": {
  "kernelspec": {
   "display_name": "Python 3",
   "language": "python",
   "name": "python3"
  },
  "language_info": {
   "codemirror_mode": {
    "name": "ipython",
    "version": 3
   },
   "file_extension": ".py",
   "mimetype": "text/x-python",
   "name": "python",
   "nbconvert_exporter": "python",
   "pygments_lexer": "ipython3",
   "version": "3.8.5"
  },
  "toc": {
   "base_numbering": 1,
   "nav_menu": {},
   "number_sections": true,
   "sideBar": true,
   "skip_h1_title": false,
   "title_cell": "Table of Contents",
   "title_sidebar": "Contents",
   "toc_cell": false,
   "toc_position": {},
   "toc_section_display": true,
   "toc_window_display": false
  }
 },
 "nbformat": 4,
 "nbformat_minor": 4
}
